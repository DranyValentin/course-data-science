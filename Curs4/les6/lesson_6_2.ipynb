{
 "cells": [
  {
   "cell_type": "code",
   "execution_count": 2,
   "id": "81e9f065",
   "metadata": {},
   "outputs": [],
   "source": [
    "import pandas as pd\n",
    "import numpy as np\n",
    "from sklearn.model_selection import train_test_split\n",
    "from sklearn.linear_model import LogisticRegression"
   ]
  },
  {
   "cell_type": "markdown",
   "id": "1ae63594",
   "metadata": {},
   "source": [
    "### Логистическая регрессия\n",
    "Логистическая регрессия используется для задач классификации, \n",
    "при этом вычисляется вероятность принадлежности  \n",
    "события к определенному классу.  \n",
    "  \n",
    "Задача алгоритма логистической регрессии - найти  \n",
    "подходящие коэффициенты <code>w</code> при признаках <code>x</code>:  \n",
    "\n",
    "<code>w<sub>0</sub> + w<sub>1</sub>x<sub>1</sub> + w<sub>2</sub>x<sub>2</sub> + ... +  + w<sub>m</sub>x<sub>m</sub></code>  \n",
    "  \n",
    "Величина z помещается в сигмоидную функцию для вычисления вероятности:  \n",
    "  \n",
    "<code>f(x) = 1 / (1 + e<sup>-z</sup>)</code>  \n",
    "  \n",
    "Значение <code>f(x)</code> будет расположено на отрезке [0, 1].  \n",
    "<code>f(x)</code> - вероятность отнесения события к классу 1  \n",
    "<code>1 - f(x)</code> - вероятность отнесения события к классу 0  \n",
    "  \n",
    "**Log loss**  \n",
    "Алгоритм логистической регрессии минимизирует величину logloss:  \n",
    "<code>logloss = -y * ln(p) - (1 - y) * ln(1 - p)</code>  \n",
    "где <code>y</code> - истинное значение (0 или 1)  \n",
    "p - вычисленная алгоритмом вероятность того, что событие принадлежит классу 1  (***f(x)***)  "
   ]
  },
  {
   "cell_type": "markdown",
   "id": "da726279",
   "metadata": {},
   "source": [
    "### Titanic\n",
    "Для изучения классификации мы будем использовать  \n",
    "датасет с информацией о пассажирах Титаник с сайта Kaggle.com"
   ]
  },
  {
   "cell_type": "code",
   "execution_count": 3,
   "id": "b4f756c2",
   "metadata": {},
   "outputs": [],
   "source": [
    "data = pd.read_csv('input/train.csv')"
   ]
  },
  {
   "cell_type": "code",
   "execution_count": 4,
   "id": "2b8e4eb5",
   "metadata": {},
   "outputs": [
    {
     "data": {
      "text/html": [
       "<div>\n",
       "<style scoped>\n",
       "    .dataframe tbody tr th:only-of-type {\n",
       "        vertical-align: middle;\n",
       "    }\n",
       "\n",
       "    .dataframe tbody tr th {\n",
       "        vertical-align: top;\n",
       "    }\n",
       "\n",
       "    .dataframe thead th {\n",
       "        text-align: right;\n",
       "    }\n",
       "</style>\n",
       "<table border=\"1\" class=\"dataframe\">\n",
       "  <thead>\n",
       "    <tr style=\"text-align: right;\">\n",
       "      <th></th>\n",
       "      <th>PassengerId</th>\n",
       "      <th>Survived</th>\n",
       "      <th>Pclass</th>\n",
       "      <th>Name</th>\n",
       "      <th>Sex</th>\n",
       "      <th>Age</th>\n",
       "      <th>SibSp</th>\n",
       "      <th>Parch</th>\n",
       "      <th>Ticket</th>\n",
       "      <th>Fare</th>\n",
       "      <th>Cabin</th>\n",
       "      <th>Embarked</th>\n",
       "    </tr>\n",
       "  </thead>\n",
       "  <tbody>\n",
       "    <tr>\n",
       "      <th>0</th>\n",
       "      <td>1</td>\n",
       "      <td>0</td>\n",
       "      <td>3</td>\n",
       "      <td>Braund, Mr. Owen Harris</td>\n",
       "      <td>male</td>\n",
       "      <td>22.0</td>\n",
       "      <td>1</td>\n",
       "      <td>0</td>\n",
       "      <td>A/5 21171</td>\n",
       "      <td>7.2500</td>\n",
       "      <td>NaN</td>\n",
       "      <td>S</td>\n",
       "    </tr>\n",
       "    <tr>\n",
       "      <th>1</th>\n",
       "      <td>2</td>\n",
       "      <td>1</td>\n",
       "      <td>1</td>\n",
       "      <td>Cumings, Mrs. John Bradley (Florence Briggs Th...</td>\n",
       "      <td>female</td>\n",
       "      <td>38.0</td>\n",
       "      <td>1</td>\n",
       "      <td>0</td>\n",
       "      <td>PC 17599</td>\n",
       "      <td>71.2833</td>\n",
       "      <td>C85</td>\n",
       "      <td>C</td>\n",
       "    </tr>\n",
       "    <tr>\n",
       "      <th>2</th>\n",
       "      <td>3</td>\n",
       "      <td>1</td>\n",
       "      <td>3</td>\n",
       "      <td>Heikkinen, Miss. Laina</td>\n",
       "      <td>female</td>\n",
       "      <td>26.0</td>\n",
       "      <td>0</td>\n",
       "      <td>0</td>\n",
       "      <td>STON/O2. 3101282</td>\n",
       "      <td>7.9250</td>\n",
       "      <td>NaN</td>\n",
       "      <td>S</td>\n",
       "    </tr>\n",
       "    <tr>\n",
       "      <th>3</th>\n",
       "      <td>4</td>\n",
       "      <td>1</td>\n",
       "      <td>1</td>\n",
       "      <td>Futrelle, Mrs. Jacques Heath (Lily May Peel)</td>\n",
       "      <td>female</td>\n",
       "      <td>35.0</td>\n",
       "      <td>1</td>\n",
       "      <td>0</td>\n",
       "      <td>113803</td>\n",
       "      <td>53.1000</td>\n",
       "      <td>C123</td>\n",
       "      <td>S</td>\n",
       "    </tr>\n",
       "    <tr>\n",
       "      <th>4</th>\n",
       "      <td>5</td>\n",
       "      <td>0</td>\n",
       "      <td>3</td>\n",
       "      <td>Allen, Mr. William Henry</td>\n",
       "      <td>male</td>\n",
       "      <td>35.0</td>\n",
       "      <td>0</td>\n",
       "      <td>0</td>\n",
       "      <td>373450</td>\n",
       "      <td>8.0500</td>\n",
       "      <td>NaN</td>\n",
       "      <td>S</td>\n",
       "    </tr>\n",
       "  </tbody>\n",
       "</table>\n",
       "</div>"
      ],
      "text/plain": [
       "   PassengerId  Survived  Pclass  \\\n",
       "0            1         0       3   \n",
       "1            2         1       1   \n",
       "2            3         1       3   \n",
       "3            4         1       1   \n",
       "4            5         0       3   \n",
       "\n",
       "                                                Name     Sex   Age  SibSp  \\\n",
       "0                            Braund, Mr. Owen Harris    male  22.0      1   \n",
       "1  Cumings, Mrs. John Bradley (Florence Briggs Th...  female  38.0      1   \n",
       "2                             Heikkinen, Miss. Laina  female  26.0      0   \n",
       "3       Futrelle, Mrs. Jacques Heath (Lily May Peel)  female  35.0      1   \n",
       "4                           Allen, Mr. William Henry    male  35.0      0   \n",
       "\n",
       "   Parch            Ticket     Fare Cabin Embarked  \n",
       "0      0         A/5 21171   7.2500   NaN        S  \n",
       "1      0          PC 17599  71.2833   C85        C  \n",
       "2      0  STON/O2. 3101282   7.9250   NaN        S  \n",
       "3      0            113803  53.1000  C123        S  \n",
       "4      0            373450   8.0500   NaN        S  "
      ]
     },
     "execution_count": 4,
     "metadata": {},
     "output_type": "execute_result"
    }
   ],
   "source": [
    "data.head()"
   ]
  },
  {
   "cell_type": "markdown",
   "id": "229f9614",
   "metadata": {},
   "source": [
    "Установим в качестве индекса PassengerId - так нам будет проще отслеживать, с информацией о каком пассажире мы работаем"
   ]
  },
  {
   "cell_type": "code",
   "execution_count": 10,
   "id": "282e2a9f",
   "metadata": {},
   "outputs": [],
   "source": [
    "data = data.set_index('PassengerId')"
   ]
  },
  {
   "cell_type": "code",
   "execution_count": 11,
   "id": "1f796cca",
   "metadata": {},
   "outputs": [
    {
     "data": {
      "text/html": [
       "<div>\n",
       "<style scoped>\n",
       "    .dataframe tbody tr th:only-of-type {\n",
       "        vertical-align: middle;\n",
       "    }\n",
       "\n",
       "    .dataframe tbody tr th {\n",
       "        vertical-align: top;\n",
       "    }\n",
       "\n",
       "    .dataframe thead th {\n",
       "        text-align: right;\n",
       "    }\n",
       "</style>\n",
       "<table border=\"1\" class=\"dataframe\">\n",
       "  <thead>\n",
       "    <tr style=\"text-align: right;\">\n",
       "      <th></th>\n",
       "      <th>Survived</th>\n",
       "      <th>Pclass</th>\n",
       "      <th>Name</th>\n",
       "      <th>Sex</th>\n",
       "      <th>Age</th>\n",
       "      <th>SibSp</th>\n",
       "      <th>Parch</th>\n",
       "      <th>Ticket</th>\n",
       "      <th>Fare</th>\n",
       "      <th>Cabin</th>\n",
       "      <th>Embarked</th>\n",
       "    </tr>\n",
       "    <tr>\n",
       "      <th>PassengerId</th>\n",
       "      <th></th>\n",
       "      <th></th>\n",
       "      <th></th>\n",
       "      <th></th>\n",
       "      <th></th>\n",
       "      <th></th>\n",
       "      <th></th>\n",
       "      <th></th>\n",
       "      <th></th>\n",
       "      <th></th>\n",
       "      <th></th>\n",
       "    </tr>\n",
       "  </thead>\n",
       "  <tbody>\n",
       "    <tr>\n",
       "      <th>1</th>\n",
       "      <td>0</td>\n",
       "      <td>3</td>\n",
       "      <td>Braund, Mr. Owen Harris</td>\n",
       "      <td>male</td>\n",
       "      <td>22.0</td>\n",
       "      <td>1</td>\n",
       "      <td>0</td>\n",
       "      <td>A/5 21171</td>\n",
       "      <td>7.2500</td>\n",
       "      <td>NaN</td>\n",
       "      <td>S</td>\n",
       "    </tr>\n",
       "    <tr>\n",
       "      <th>2</th>\n",
       "      <td>1</td>\n",
       "      <td>1</td>\n",
       "      <td>Cumings, Mrs. John Bradley (Florence Briggs Th...</td>\n",
       "      <td>female</td>\n",
       "      <td>38.0</td>\n",
       "      <td>1</td>\n",
       "      <td>0</td>\n",
       "      <td>PC 17599</td>\n",
       "      <td>71.2833</td>\n",
       "      <td>C85</td>\n",
       "      <td>C</td>\n",
       "    </tr>\n",
       "    <tr>\n",
       "      <th>3</th>\n",
       "      <td>1</td>\n",
       "      <td>3</td>\n",
       "      <td>Heikkinen, Miss. Laina</td>\n",
       "      <td>female</td>\n",
       "      <td>26.0</td>\n",
       "      <td>0</td>\n",
       "      <td>0</td>\n",
       "      <td>STON/O2. 3101282</td>\n",
       "      <td>7.9250</td>\n",
       "      <td>NaN</td>\n",
       "      <td>S</td>\n",
       "    </tr>\n",
       "    <tr>\n",
       "      <th>4</th>\n",
       "      <td>1</td>\n",
       "      <td>1</td>\n",
       "      <td>Futrelle, Mrs. Jacques Heath (Lily May Peel)</td>\n",
       "      <td>female</td>\n",
       "      <td>35.0</td>\n",
       "      <td>1</td>\n",
       "      <td>0</td>\n",
       "      <td>113803</td>\n",
       "      <td>53.1000</td>\n",
       "      <td>C123</td>\n",
       "      <td>S</td>\n",
       "    </tr>\n",
       "    <tr>\n",
       "      <th>5</th>\n",
       "      <td>0</td>\n",
       "      <td>3</td>\n",
       "      <td>Allen, Mr. William Henry</td>\n",
       "      <td>male</td>\n",
       "      <td>35.0</td>\n",
       "      <td>0</td>\n",
       "      <td>0</td>\n",
       "      <td>373450</td>\n",
       "      <td>8.0500</td>\n",
       "      <td>NaN</td>\n",
       "      <td>S</td>\n",
       "    </tr>\n",
       "  </tbody>\n",
       "</table>\n",
       "</div>"
      ],
      "text/plain": [
       "             Survived  Pclass  \\\n",
       "PassengerId                     \n",
       "1                   0       3   \n",
       "2                   1       1   \n",
       "3                   1       3   \n",
       "4                   1       1   \n",
       "5                   0       3   \n",
       "\n",
       "                                                          Name     Sex   Age  \\\n",
       "PassengerId                                                                    \n",
       "1                                      Braund, Mr. Owen Harris    male  22.0   \n",
       "2            Cumings, Mrs. John Bradley (Florence Briggs Th...  female  38.0   \n",
       "3                                       Heikkinen, Miss. Laina  female  26.0   \n",
       "4                 Futrelle, Mrs. Jacques Heath (Lily May Peel)  female  35.0   \n",
       "5                                     Allen, Mr. William Henry    male  35.0   \n",
       "\n",
       "             SibSp  Parch            Ticket     Fare Cabin Embarked  \n",
       "PassengerId                                                          \n",
       "1                1      0         A/5 21171   7.2500   NaN        S  \n",
       "2                1      0          PC 17599  71.2833   C85        C  \n",
       "3                0      0  STON/O2. 3101282   7.9250   NaN        S  \n",
       "4                1      0            113803  53.1000  C123        S  \n",
       "5                0      0            373450   8.0500   NaN        S  "
      ]
     },
     "execution_count": 11,
     "metadata": {},
     "output_type": "execute_result"
    }
   ],
   "source": [
    "data.head()"
   ]
  },
  {
   "cell_type": "code",
   "execution_count": 12,
   "id": "9c12dd7a",
   "metadata": {},
   "outputs": [
    {
     "data": {
      "text/plain": [
       "Index(['Survived', 'Pclass', 'Name', 'Sex', 'Age', 'SibSp', 'Parch', 'Ticket',\n",
       "       'Fare', 'Cabin', 'Embarked'],\n",
       "      dtype='object')"
      ]
     },
     "execution_count": 12,
     "metadata": {},
     "output_type": "execute_result"
    }
   ],
   "source": [
    "data.columns"
   ]
  },
  {
   "cell_type": "markdown",
   "id": "614fb9b6",
   "metadata": {},
   "source": [
    "Наша задача - определить, выжил ли человек при крушении Титаника  \n",
    "В поле Survived выжившие пассажиры обозначены единицей, а утонувшие - нулем  "
   ]
  },
  {
   "cell_type": "code",
   "execution_count": 13,
   "id": "981faf91",
   "metadata": {},
   "outputs": [
    {
     "data": {
      "text/plain": [
       "PassengerId\n",
       "1      0\n",
       "2      1\n",
       "3      1\n",
       "4      1\n",
       "5      0\n",
       "      ..\n",
       "887    0\n",
       "888    1\n",
       "889    0\n",
       "890    1\n",
       "891    0\n",
       "Name: Survived, Length: 891, dtype: int64"
      ]
     },
     "execution_count": 13,
     "metadata": {},
     "output_type": "execute_result"
    }
   ],
   "source": [
    "target = 'Survived'\n",
    "y = data[target]\n",
    "y"
   ]
  },
  {
   "cell_type": "code",
   "execution_count": 14,
   "id": "1cff821d",
   "metadata": {},
   "outputs": [],
   "source": [
    "X = data.drop(target, axis = 1)"
   ]
  },
  {
   "cell_type": "code",
   "execution_count": 15,
   "id": "289d4976",
   "metadata": {},
   "outputs": [
    {
     "data": {
      "text/html": [
       "<div>\n",
       "<style scoped>\n",
       "    .dataframe tbody tr th:only-of-type {\n",
       "        vertical-align: middle;\n",
       "    }\n",
       "\n",
       "    .dataframe tbody tr th {\n",
       "        vertical-align: top;\n",
       "    }\n",
       "\n",
       "    .dataframe thead th {\n",
       "        text-align: right;\n",
       "    }\n",
       "</style>\n",
       "<table border=\"1\" class=\"dataframe\">\n",
       "  <thead>\n",
       "    <tr style=\"text-align: right;\">\n",
       "      <th></th>\n",
       "      <th>Pclass</th>\n",
       "      <th>Name</th>\n",
       "      <th>Sex</th>\n",
       "      <th>Age</th>\n",
       "      <th>SibSp</th>\n",
       "      <th>Parch</th>\n",
       "      <th>Ticket</th>\n",
       "      <th>Fare</th>\n",
       "      <th>Cabin</th>\n",
       "      <th>Embarked</th>\n",
       "    </tr>\n",
       "    <tr>\n",
       "      <th>PassengerId</th>\n",
       "      <th></th>\n",
       "      <th></th>\n",
       "      <th></th>\n",
       "      <th></th>\n",
       "      <th></th>\n",
       "      <th></th>\n",
       "      <th></th>\n",
       "      <th></th>\n",
       "      <th></th>\n",
       "      <th></th>\n",
       "    </tr>\n",
       "  </thead>\n",
       "  <tbody>\n",
       "    <tr>\n",
       "      <th>1</th>\n",
       "      <td>3</td>\n",
       "      <td>Braund, Mr. Owen Harris</td>\n",
       "      <td>male</td>\n",
       "      <td>22.0</td>\n",
       "      <td>1</td>\n",
       "      <td>0</td>\n",
       "      <td>A/5 21171</td>\n",
       "      <td>7.2500</td>\n",
       "      <td>NaN</td>\n",
       "      <td>S</td>\n",
       "    </tr>\n",
       "    <tr>\n",
       "      <th>2</th>\n",
       "      <td>1</td>\n",
       "      <td>Cumings, Mrs. John Bradley (Florence Briggs Th...</td>\n",
       "      <td>female</td>\n",
       "      <td>38.0</td>\n",
       "      <td>1</td>\n",
       "      <td>0</td>\n",
       "      <td>PC 17599</td>\n",
       "      <td>71.2833</td>\n",
       "      <td>C85</td>\n",
       "      <td>C</td>\n",
       "    </tr>\n",
       "    <tr>\n",
       "      <th>3</th>\n",
       "      <td>3</td>\n",
       "      <td>Heikkinen, Miss. Laina</td>\n",
       "      <td>female</td>\n",
       "      <td>26.0</td>\n",
       "      <td>0</td>\n",
       "      <td>0</td>\n",
       "      <td>STON/O2. 3101282</td>\n",
       "      <td>7.9250</td>\n",
       "      <td>NaN</td>\n",
       "      <td>S</td>\n",
       "    </tr>\n",
       "    <tr>\n",
       "      <th>4</th>\n",
       "      <td>1</td>\n",
       "      <td>Futrelle, Mrs. Jacques Heath (Lily May Peel)</td>\n",
       "      <td>female</td>\n",
       "      <td>35.0</td>\n",
       "      <td>1</td>\n",
       "      <td>0</td>\n",
       "      <td>113803</td>\n",
       "      <td>53.1000</td>\n",
       "      <td>C123</td>\n",
       "      <td>S</td>\n",
       "    </tr>\n",
       "    <tr>\n",
       "      <th>5</th>\n",
       "      <td>3</td>\n",
       "      <td>Allen, Mr. William Henry</td>\n",
       "      <td>male</td>\n",
       "      <td>35.0</td>\n",
       "      <td>0</td>\n",
       "      <td>0</td>\n",
       "      <td>373450</td>\n",
       "      <td>8.0500</td>\n",
       "      <td>NaN</td>\n",
       "      <td>S</td>\n",
       "    </tr>\n",
       "  </tbody>\n",
       "</table>\n",
       "</div>"
      ],
      "text/plain": [
       "             Pclass                                               Name  \\\n",
       "PassengerId                                                              \n",
       "1                 3                            Braund, Mr. Owen Harris   \n",
       "2                 1  Cumings, Mrs. John Bradley (Florence Briggs Th...   \n",
       "3                 3                             Heikkinen, Miss. Laina   \n",
       "4                 1       Futrelle, Mrs. Jacques Heath (Lily May Peel)   \n",
       "5                 3                           Allen, Mr. William Henry   \n",
       "\n",
       "                Sex   Age  SibSp  Parch            Ticket     Fare Cabin  \\\n",
       "PassengerId                                                                \n",
       "1              male  22.0      1      0         A/5 21171   7.2500   NaN   \n",
       "2            female  38.0      1      0          PC 17599  71.2833   C85   \n",
       "3            female  26.0      0      0  STON/O2. 3101282   7.9250   NaN   \n",
       "4            female  35.0      1      0            113803  53.1000  C123   \n",
       "5              male  35.0      0      0            373450   8.0500   NaN   \n",
       "\n",
       "            Embarked  \n",
       "PassengerId           \n",
       "1                  S  \n",
       "2                  C  \n",
       "3                  S  \n",
       "4                  S  \n",
       "5                  S  "
      ]
     },
     "execution_count": 15,
     "metadata": {},
     "output_type": "execute_result"
    }
   ],
   "source": [
    "X.head()"
   ]
  },
  {
   "cell_type": "markdown",
   "id": "ac8763ed",
   "metadata": {},
   "source": [
    "### Изуление качества данных и их очистка"
   ]
  },
  {
   "cell_type": "code",
   "execution_count": 16,
   "id": "1c509788",
   "metadata": {},
   "outputs": [
    {
     "name": "stdout",
     "output_type": "stream",
     "text": [
      "<class 'pandas.core.frame.DataFrame'>\n",
      "Int64Index: 891 entries, 1 to 891\n",
      "Data columns (total 10 columns):\n",
      " #   Column    Non-Null Count  Dtype  \n",
      "---  ------    --------------  -----  \n",
      " 0   Pclass    891 non-null    int64  \n",
      " 1   Name      891 non-null    object \n",
      " 2   Sex       891 non-null    object \n",
      " 3   Age       714 non-null    float64\n",
      " 4   SibSp     891 non-null    int64  \n",
      " 5   Parch     891 non-null    int64  \n",
      " 6   Ticket    891 non-null    object \n",
      " 7   Fare      891 non-null    float64\n",
      " 8   Cabin     204 non-null    object \n",
      " 9   Embarked  889 non-null    object \n",
      "dtypes: float64(2), int64(3), object(5)\n",
      "memory usage: 76.6+ KB\n"
     ]
    }
   ],
   "source": [
    "X.info()"
   ]
  },
  {
   "cell_type": "markdown",
   "id": "9b59f997",
   "metadata": {},
   "source": [
    "В поле Cabin слишком много пропущенных значений,  \n",
    "в этом уроке мы не будем го использовать.  \n",
    "Стобцы Name и Ticket также в этот раз не рассматриваем.\n",
    "Удалим эти поля:"
   ]
  },
  {
   "cell_type": "code",
   "execution_count": 17,
   "id": "4076b597",
   "metadata": {},
   "outputs": [],
   "source": [
    "X = X.drop(['Cabin', 'Name', 'Ticket'], axis = 1)"
   ]
  },
  {
   "cell_type": "markdown",
   "id": "ca845524",
   "metadata": {},
   "source": [
    "В поле возраст 20% значений не заполнено. Заменим пропущенные значения на значения среднего возраста."
   ]
  },
  {
   "cell_type": "code",
   "execution_count": 18,
   "id": "eab1ceb0",
   "metadata": {},
   "outputs": [
    {
     "data": {
      "text/plain": [
       "29.69911764705882"
      ]
     },
     "execution_count": 18,
     "metadata": {},
     "output_type": "execute_result"
    }
   ],
   "source": [
    "mean_age = X['Age'].mean()\n",
    "mean_age"
   ]
  },
  {
   "cell_type": "code",
   "execution_count": 19,
   "id": "e7a1291d",
   "metadata": {},
   "outputs": [
    {
     "data": {
      "text/plain": [
       "array([22.        , 38.        , 26.        , 35.        , 29.69911765,\n",
       "       54.        ,  2.        , 27.        , 14.        ,  4.        ,\n",
       "       58.        , 20.        , 39.        , 55.        , 31.        ,\n",
       "       34.        , 15.        , 28.        ,  8.        , 19.        ,\n",
       "       40.        , 66.        , 42.        , 21.        , 18.        ,\n",
       "        3.        ,  7.        , 49.        , 29.        , 65.        ,\n",
       "       28.5       ,  5.        , 11.        , 45.        , 17.        ,\n",
       "       32.        , 16.        , 25.        ,  0.83      , 30.        ,\n",
       "       33.        , 23.        , 24.        , 46.        , 59.        ,\n",
       "       71.        , 37.        , 47.        , 14.5       , 70.5       ,\n",
       "       32.5       , 12.        ,  9.        , 36.5       , 51.        ,\n",
       "       55.5       , 40.5       , 44.        ,  1.        , 61.        ,\n",
       "       56.        , 50.        , 36.        , 45.5       , 20.5       ,\n",
       "       62.        , 41.        , 52.        , 63.        , 23.5       ,\n",
       "        0.92      , 43.        , 60.        , 10.        , 64.        ,\n",
       "       13.        , 48.        ,  0.75      , 53.        , 57.        ,\n",
       "       80.        , 70.        , 24.5       ,  6.        ,  0.67      ,\n",
       "       30.5       ,  0.42      , 34.5       , 74.        ])"
      ]
     },
     "execution_count": 19,
     "metadata": {},
     "output_type": "execute_result"
    }
   ],
   "source": [
    "X['Age'] = X['Age'].fillna(mean_age)\n",
    "X['Age'].unique()"
   ]
  },
  {
   "cell_type": "markdown",
   "id": "e5228307",
   "metadata": {},
   "source": [
    "В поле Embarked, которое являтся текстовым, не хватает двух значений,  \n",
    "заполним пропущеные значения "
   ]
  },
  {
   "cell_type": "code",
   "execution_count": 20,
   "id": "b60bda5d",
   "metadata": {},
   "outputs": [
    {
     "data": {
      "text/plain": [
       "S    644\n",
       "C    168\n",
       "Q     77\n",
       "Name: Embarked, dtype: int64"
      ]
     },
     "execution_count": 20,
     "metadata": {},
     "output_type": "execute_result"
    }
   ],
   "source": [
    "X['Embarked'].value_counts()"
   ]
  },
  {
   "cell_type": "code",
   "execution_count": 22,
   "id": "19ff9339",
   "metadata": {},
   "outputs": [
    {
     "data": {
      "text/plain": [
       "'S'"
      ]
     },
     "execution_count": 22,
     "metadata": {},
     "output_type": "execute_result"
    }
   ],
   "source": [
    "embarked_mode = X['Embarked'].mode()[0]\n",
    "embarked_mode"
   ]
  },
  {
   "cell_type": "code",
   "execution_count": 24,
   "id": "492804c0",
   "metadata": {},
   "outputs": [
    {
     "data": {
      "text/plain": [
       "S    646\n",
       "C    168\n",
       "Q     77\n",
       "Name: Embarked, dtype: int64"
      ]
     },
     "execution_count": 24,
     "metadata": {},
     "output_type": "execute_result"
    }
   ],
   "source": [
    "X['Embarked'] = X['Embarked'].fillna(embarked_mode)\n",
    "X['Embarked'].value_counts()"
   ]
  },
  {
   "cell_type": "code",
   "execution_count": 25,
   "id": "14dc9132",
   "metadata": {},
   "outputs": [
    {
     "name": "stdout",
     "output_type": "stream",
     "text": [
      "<class 'pandas.core.frame.DataFrame'>\n",
      "Int64Index: 891 entries, 1 to 891\n",
      "Data columns (total 7 columns):\n",
      " #   Column    Non-Null Count  Dtype  \n",
      "---  ------    --------------  -----  \n",
      " 0   Pclass    891 non-null    int64  \n",
      " 1   Sex       891 non-null    object \n",
      " 2   Age       891 non-null    float64\n",
      " 3   SibSp     891 non-null    int64  \n",
      " 4   Parch     891 non-null    int64  \n",
      " 5   Fare      891 non-null    float64\n",
      " 6   Embarked  891 non-null    object \n",
      "dtypes: float64(2), int64(3), object(2)\n",
      "memory usage: 55.7+ KB\n"
     ]
    }
   ],
   "source": [
    "X.info()"
   ]
  },
  {
   "cell_type": "markdown",
   "id": "c29a8720",
   "metadata": {},
   "source": [
    "### Работа с категориальными признаками\n",
    "Признак пола пассажира (Sex) - категориальная переменная. Так как в ней два класса,  \n",
    "то мы можем представить одной колонкой со  \n",
    "значениями 0 и 1:"
   ]
  },
  {
   "cell_type": "code",
   "execution_count": 26,
   "id": "8e0055fb",
   "metadata": {},
   "outputs": [
    {
     "data": {
      "text/plain": [
       "male      577\n",
       "female    314\n",
       "Name: Sex, dtype: int64"
      ]
     },
     "execution_count": 26,
     "metadata": {},
     "output_type": "execute_result"
    }
   ],
   "source": [
    "X['Sex'].value_counts()"
   ]
  },
  {
   "cell_type": "code",
   "execution_count": 27,
   "id": "4b8140ad",
   "metadata": {},
   "outputs": [
    {
     "data": {
      "text/plain": [
       "0    577\n",
       "1    314\n",
       "Name: Sex, dtype: int64"
      ]
     },
     "execution_count": 27,
     "metadata": {},
     "output_type": "execute_result"
    }
   ],
   "source": [
    "X['Sex'] = (X['Sex'] == 'female').astype(int)\n",
    "X['Sex'].value_counts()"
   ]
  },
  {
   "cell_type": "markdown",
   "id": "dc616edc",
   "metadata": {},
   "source": [
    "Еще одна категориальная переменная - Embarked.\n",
    "Преобразуем ее значения в dummy-переменные."
   ]
  },
  {
   "cell_type": "code",
   "execution_count": 28,
   "id": "1c08ec7d",
   "metadata": {},
   "outputs": [
    {
     "data": {
      "text/html": [
       "<div>\n",
       "<style scoped>\n",
       "    .dataframe tbody tr th:only-of-type {\n",
       "        vertical-align: middle;\n",
       "    }\n",
       "\n",
       "    .dataframe tbody tr th {\n",
       "        vertical-align: top;\n",
       "    }\n",
       "\n",
       "    .dataframe thead th {\n",
       "        text-align: right;\n",
       "    }\n",
       "</style>\n",
       "<table border=\"1\" class=\"dataframe\">\n",
       "  <thead>\n",
       "    <tr style=\"text-align: right;\">\n",
       "      <th></th>\n",
       "      <th>Pclass</th>\n",
       "      <th>Sex</th>\n",
       "      <th>Age</th>\n",
       "      <th>SibSp</th>\n",
       "      <th>Parch</th>\n",
       "      <th>Fare</th>\n",
       "      <th>Embarked_C</th>\n",
       "      <th>Embarked_Q</th>\n",
       "      <th>Embarked_S</th>\n",
       "    </tr>\n",
       "    <tr>\n",
       "      <th>PassengerId</th>\n",
       "      <th></th>\n",
       "      <th></th>\n",
       "      <th></th>\n",
       "      <th></th>\n",
       "      <th></th>\n",
       "      <th></th>\n",
       "      <th></th>\n",
       "      <th></th>\n",
       "      <th></th>\n",
       "    </tr>\n",
       "  </thead>\n",
       "  <tbody>\n",
       "    <tr>\n",
       "      <th>1</th>\n",
       "      <td>3</td>\n",
       "      <td>0</td>\n",
       "      <td>22.0</td>\n",
       "      <td>1</td>\n",
       "      <td>0</td>\n",
       "      <td>7.2500</td>\n",
       "      <td>0</td>\n",
       "      <td>0</td>\n",
       "      <td>1</td>\n",
       "    </tr>\n",
       "    <tr>\n",
       "      <th>2</th>\n",
       "      <td>1</td>\n",
       "      <td>1</td>\n",
       "      <td>38.0</td>\n",
       "      <td>1</td>\n",
       "      <td>0</td>\n",
       "      <td>71.2833</td>\n",
       "      <td>1</td>\n",
       "      <td>0</td>\n",
       "      <td>0</td>\n",
       "    </tr>\n",
       "    <tr>\n",
       "      <th>3</th>\n",
       "      <td>3</td>\n",
       "      <td>1</td>\n",
       "      <td>26.0</td>\n",
       "      <td>0</td>\n",
       "      <td>0</td>\n",
       "      <td>7.9250</td>\n",
       "      <td>0</td>\n",
       "      <td>0</td>\n",
       "      <td>1</td>\n",
       "    </tr>\n",
       "    <tr>\n",
       "      <th>4</th>\n",
       "      <td>1</td>\n",
       "      <td>1</td>\n",
       "      <td>35.0</td>\n",
       "      <td>1</td>\n",
       "      <td>0</td>\n",
       "      <td>53.1000</td>\n",
       "      <td>0</td>\n",
       "      <td>0</td>\n",
       "      <td>1</td>\n",
       "    </tr>\n",
       "    <tr>\n",
       "      <th>5</th>\n",
       "      <td>3</td>\n",
       "      <td>0</td>\n",
       "      <td>35.0</td>\n",
       "      <td>0</td>\n",
       "      <td>0</td>\n",
       "      <td>8.0500</td>\n",
       "      <td>0</td>\n",
       "      <td>0</td>\n",
       "      <td>1</td>\n",
       "    </tr>\n",
       "  </tbody>\n",
       "</table>\n",
       "</div>"
      ],
      "text/plain": [
       "             Pclass  Sex   Age  SibSp  Parch     Fare  Embarked_C  Embarked_Q  \\\n",
       "PassengerId                                                                     \n",
       "1                 3    0  22.0      1      0   7.2500           0           0   \n",
       "2                 1    1  38.0      1      0  71.2833           1           0   \n",
       "3                 3    1  26.0      0      0   7.9250           0           0   \n",
       "4                 1    1  35.0      1      0  53.1000           0           0   \n",
       "5                 3    0  35.0      0      0   8.0500           0           0   \n",
       "\n",
       "             Embarked_S  \n",
       "PassengerId              \n",
       "1                     1  \n",
       "2                     0  \n",
       "3                     1  \n",
       "4                     1  \n",
       "5                     1  "
      ]
     },
     "execution_count": 28,
     "metadata": {},
     "output_type": "execute_result"
    }
   ],
   "source": [
    "X = pd.get_dummies(X)\n",
    "X.head()"
   ]
  },
  {
   "cell_type": "code",
   "execution_count": 29,
   "id": "3dc4fdd0",
   "metadata": {},
   "outputs": [
    {
     "name": "stdout",
     "output_type": "stream",
     "text": [
      "<class 'pandas.core.frame.DataFrame'>\n",
      "Int64Index: 891 entries, 1 to 891\n",
      "Data columns (total 9 columns):\n",
      " #   Column      Non-Null Count  Dtype  \n",
      "---  ------      --------------  -----  \n",
      " 0   Pclass      891 non-null    int64  \n",
      " 1   Sex         891 non-null    int64  \n",
      " 2   Age         891 non-null    float64\n",
      " 3   SibSp       891 non-null    int64  \n",
      " 4   Parch       891 non-null    int64  \n",
      " 5   Fare        891 non-null    float64\n",
      " 6   Embarked_C  891 non-null    uint8  \n",
      " 7   Embarked_Q  891 non-null    uint8  \n",
      " 8   Embarked_S  891 non-null    uint8  \n",
      "dtypes: float64(2), int64(4), uint8(3)\n",
      "memory usage: 51.3 KB\n"
     ]
    }
   ],
   "source": [
    "X.info()\n"
   ]
  },
  {
   "cell_type": "code",
   "execution_count": 30,
   "id": "97309633",
   "metadata": {},
   "outputs": [
    {
     "data": {
      "text/plain": [
       "array([3, 1, 2])"
      ]
     },
     "execution_count": 30,
     "metadata": {},
     "output_type": "execute_result"
    }
   ],
   "source": [
    "X['Pclass'].unique()"
   ]
  },
  {
   "cell_type": "code",
   "execution_count": 31,
   "id": "6a9a6bbc",
   "metadata": {},
   "outputs": [],
   "source": [
    "X['Pclass'] = X['Pclass'].astype('category')"
   ]
  },
  {
   "cell_type": "code",
   "execution_count": 32,
   "id": "a111df7d",
   "metadata": {},
   "outputs": [
    {
     "data": {
      "text/plain": [
       "Index(['Sex', 'Age', 'SibSp', 'Parch', 'Fare', 'Embarked_C', 'Embarked_Q',\n",
       "       'Embarked_S', 'Pclass_1', 'Pclass_2', 'Pclass_3'],\n",
       "      dtype='object')"
      ]
     },
     "execution_count": 32,
     "metadata": {},
     "output_type": "execute_result"
    }
   ],
   "source": [
    "X = pd.get_dummies(X)\n",
    "X.columns"
   ]
  },
  {
   "cell_type": "code",
   "execution_count": 33,
   "id": "a0035d42",
   "metadata": {},
   "outputs": [
    {
     "data": {
      "text/html": [
       "<div>\n",
       "<style scoped>\n",
       "    .dataframe tbody tr th:only-of-type {\n",
       "        vertical-align: middle;\n",
       "    }\n",
       "\n",
       "    .dataframe tbody tr th {\n",
       "        vertical-align: top;\n",
       "    }\n",
       "\n",
       "    .dataframe thead th {\n",
       "        text-align: right;\n",
       "    }\n",
       "</style>\n",
       "<table border=\"1\" class=\"dataframe\">\n",
       "  <thead>\n",
       "    <tr style=\"text-align: right;\">\n",
       "      <th></th>\n",
       "      <th>Sex</th>\n",
       "      <th>Age</th>\n",
       "      <th>SibSp</th>\n",
       "      <th>Parch</th>\n",
       "      <th>Fare</th>\n",
       "      <th>Embarked_C</th>\n",
       "      <th>Embarked_Q</th>\n",
       "      <th>Embarked_S</th>\n",
       "      <th>Pclass_1</th>\n",
       "      <th>Pclass_2</th>\n",
       "      <th>Pclass_3</th>\n",
       "    </tr>\n",
       "    <tr>\n",
       "      <th>PassengerId</th>\n",
       "      <th></th>\n",
       "      <th></th>\n",
       "      <th></th>\n",
       "      <th></th>\n",
       "      <th></th>\n",
       "      <th></th>\n",
       "      <th></th>\n",
       "      <th></th>\n",
       "      <th></th>\n",
       "      <th></th>\n",
       "      <th></th>\n",
       "    </tr>\n",
       "  </thead>\n",
       "  <tbody>\n",
       "    <tr>\n",
       "      <th>1</th>\n",
       "      <td>0</td>\n",
       "      <td>22.000000</td>\n",
       "      <td>1</td>\n",
       "      <td>0</td>\n",
       "      <td>7.2500</td>\n",
       "      <td>0</td>\n",
       "      <td>0</td>\n",
       "      <td>1</td>\n",
       "      <td>0</td>\n",
       "      <td>0</td>\n",
       "      <td>1</td>\n",
       "    </tr>\n",
       "    <tr>\n",
       "      <th>2</th>\n",
       "      <td>1</td>\n",
       "      <td>38.000000</td>\n",
       "      <td>1</td>\n",
       "      <td>0</td>\n",
       "      <td>71.2833</td>\n",
       "      <td>1</td>\n",
       "      <td>0</td>\n",
       "      <td>0</td>\n",
       "      <td>1</td>\n",
       "      <td>0</td>\n",
       "      <td>0</td>\n",
       "    </tr>\n",
       "    <tr>\n",
       "      <th>3</th>\n",
       "      <td>1</td>\n",
       "      <td>26.000000</td>\n",
       "      <td>0</td>\n",
       "      <td>0</td>\n",
       "      <td>7.9250</td>\n",
       "      <td>0</td>\n",
       "      <td>0</td>\n",
       "      <td>1</td>\n",
       "      <td>0</td>\n",
       "      <td>0</td>\n",
       "      <td>1</td>\n",
       "    </tr>\n",
       "    <tr>\n",
       "      <th>4</th>\n",
       "      <td>1</td>\n",
       "      <td>35.000000</td>\n",
       "      <td>1</td>\n",
       "      <td>0</td>\n",
       "      <td>53.1000</td>\n",
       "      <td>0</td>\n",
       "      <td>0</td>\n",
       "      <td>1</td>\n",
       "      <td>1</td>\n",
       "      <td>0</td>\n",
       "      <td>0</td>\n",
       "    </tr>\n",
       "    <tr>\n",
       "      <th>5</th>\n",
       "      <td>0</td>\n",
       "      <td>35.000000</td>\n",
       "      <td>0</td>\n",
       "      <td>0</td>\n",
       "      <td>8.0500</td>\n",
       "      <td>0</td>\n",
       "      <td>0</td>\n",
       "      <td>1</td>\n",
       "      <td>0</td>\n",
       "      <td>0</td>\n",
       "      <td>1</td>\n",
       "    </tr>\n",
       "    <tr>\n",
       "      <th>6</th>\n",
       "      <td>0</td>\n",
       "      <td>29.699118</td>\n",
       "      <td>0</td>\n",
       "      <td>0</td>\n",
       "      <td>8.4583</td>\n",
       "      <td>0</td>\n",
       "      <td>1</td>\n",
       "      <td>0</td>\n",
       "      <td>0</td>\n",
       "      <td>0</td>\n",
       "      <td>1</td>\n",
       "    </tr>\n",
       "    <tr>\n",
       "      <th>7</th>\n",
       "      <td>0</td>\n",
       "      <td>54.000000</td>\n",
       "      <td>0</td>\n",
       "      <td>0</td>\n",
       "      <td>51.8625</td>\n",
       "      <td>0</td>\n",
       "      <td>0</td>\n",
       "      <td>1</td>\n",
       "      <td>1</td>\n",
       "      <td>0</td>\n",
       "      <td>0</td>\n",
       "    </tr>\n",
       "    <tr>\n",
       "      <th>8</th>\n",
       "      <td>0</td>\n",
       "      <td>2.000000</td>\n",
       "      <td>3</td>\n",
       "      <td>1</td>\n",
       "      <td>21.0750</td>\n",
       "      <td>0</td>\n",
       "      <td>0</td>\n",
       "      <td>1</td>\n",
       "      <td>0</td>\n",
       "      <td>0</td>\n",
       "      <td>1</td>\n",
       "    </tr>\n",
       "    <tr>\n",
       "      <th>9</th>\n",
       "      <td>1</td>\n",
       "      <td>27.000000</td>\n",
       "      <td>0</td>\n",
       "      <td>2</td>\n",
       "      <td>11.1333</td>\n",
       "      <td>0</td>\n",
       "      <td>0</td>\n",
       "      <td>1</td>\n",
       "      <td>0</td>\n",
       "      <td>0</td>\n",
       "      <td>1</td>\n",
       "    </tr>\n",
       "    <tr>\n",
       "      <th>10</th>\n",
       "      <td>1</td>\n",
       "      <td>14.000000</td>\n",
       "      <td>1</td>\n",
       "      <td>0</td>\n",
       "      <td>30.0708</td>\n",
       "      <td>1</td>\n",
       "      <td>0</td>\n",
       "      <td>0</td>\n",
       "      <td>0</td>\n",
       "      <td>1</td>\n",
       "      <td>0</td>\n",
       "    </tr>\n",
       "  </tbody>\n",
       "</table>\n",
       "</div>"
      ],
      "text/plain": [
       "             Sex        Age  SibSp  Parch     Fare  Embarked_C  Embarked_Q  \\\n",
       "PassengerId                                                                  \n",
       "1              0  22.000000      1      0   7.2500           0           0   \n",
       "2              1  38.000000      1      0  71.2833           1           0   \n",
       "3              1  26.000000      0      0   7.9250           0           0   \n",
       "4              1  35.000000      1      0  53.1000           0           0   \n",
       "5              0  35.000000      0      0   8.0500           0           0   \n",
       "6              0  29.699118      0      0   8.4583           0           1   \n",
       "7              0  54.000000      0      0  51.8625           0           0   \n",
       "8              0   2.000000      3      1  21.0750           0           0   \n",
       "9              1  27.000000      0      2  11.1333           0           0   \n",
       "10             1  14.000000      1      0  30.0708           1           0   \n",
       "\n",
       "             Embarked_S  Pclass_1  Pclass_2  Pclass_3  \n",
       "PassengerId                                            \n",
       "1                     1         0         0         1  \n",
       "2                     0         1         0         0  \n",
       "3                     1         0         0         1  \n",
       "4                     1         1         0         0  \n",
       "5                     1         0         0         1  \n",
       "6                     0         0         0         1  \n",
       "7                     1         1         0         0  \n",
       "8                     1         0         0         1  \n",
       "9                     1         0         0         1  \n",
       "10                    0         0         1         0  "
      ]
     },
     "execution_count": 33,
     "metadata": {},
     "output_type": "execute_result"
    }
   ],
   "source": [
    "X.head(10)"
   ]
  },
  {
   "cell_type": "markdown",
   "id": "a728c29f",
   "metadata": {},
   "source": [
    "### Цель разбиения данных на тренировочный, валидационный и тестовый датасеты\n",
    "В этот раз будет более работать с разделением данных для модели более тщательно,  \n",
    "мы разобьем данные из файла train.csv на две части:  \n",
    "тренировачный набор данных (признаки в X_train, целевая переменная в y_train)  \n",
    "и валидационные (соответственно X_valid, y_valid).  \n",
    "На тренировочном датасете мы будем строить модель, а на валидационном - проверять ее качество.  \n",
    "После проверки на валидационном сете можно будет окончательно проверить модель на тестовом сете  \n",
    "(содержится в файле test.csv по вышеуказанной ссылке -  \n",
    "фактическое значение целевой переменной в тестовом наборе отсутствует,  \n",
    "рекомендуем самостоятельно проверить точность данных при отправке решенияна странице соревнования).\n"
   ]
  },
  {
   "cell_type": "code",
   "execution_count": 34,
   "id": "b133a1df",
   "metadata": {},
   "outputs": [],
   "source": [
    "X_train, X_valid, y_train, y_valid = train_test_split(X, y, test_size = 0.25, random_state = 42)"
   ]
  },
  {
   "cell_type": "markdown",
   "id": "157e57ce",
   "metadata": {},
   "source": [
    "### Построение модели\n",
    "В начале работы над любой задачей рекомендуется сначала сделать простую модель,  \n",
    "не затрачивая большого количества времени.  \n",
    "Замем можно будет оценивать новые модели, сравнивая их качество  \n",
    "с качеством первональной (базовой) модели.  \n",
    "  \n"
   ]
  },
  {
   "cell_type": "markdown",
   "id": "074981b2",
   "metadata": {},
   "source": [
    "Сначала посмотрим на информацию о признаках:"
   ]
  },
  {
   "cell_type": "code",
   "execution_count": 35,
   "id": "4dc32d39",
   "metadata": {},
   "outputs": [
    {
     "name": "stdout",
     "output_type": "stream",
     "text": [
      "<class 'pandas.core.frame.DataFrame'>\n",
      "Int64Index: 668 entries, 299 to 103\n",
      "Data columns (total 11 columns):\n",
      " #   Column      Non-Null Count  Dtype  \n",
      "---  ------      --------------  -----  \n",
      " 0   Sex         668 non-null    int64  \n",
      " 1   Age         668 non-null    float64\n",
      " 2   SibSp       668 non-null    int64  \n",
      " 3   Parch       668 non-null    int64  \n",
      " 4   Fare        668 non-null    float64\n",
      " 5   Embarked_C  668 non-null    uint8  \n",
      " 6   Embarked_Q  668 non-null    uint8  \n",
      " 7   Embarked_S  668 non-null    uint8  \n",
      " 8   Pclass_1    668 non-null    uint8  \n",
      " 9   Pclass_2    668 non-null    uint8  \n",
      " 10  Pclass_3    668 non-null    uint8  \n",
      "dtypes: float64(2), int64(3), uint8(6)\n",
      "memory usage: 35.2 KB\n"
     ]
    }
   ],
   "source": [
    "X_train.info()"
   ]
  },
  {
   "cell_type": "markdown",
   "id": "df90f71d",
   "metadata": {},
   "source": [
    "Все признаки - числовые, поэтому мы можем построить модель, используя все признаки."
   ]
  },
  {
   "cell_type": "code",
   "execution_count": 37,
   "id": "749ff806",
   "metadata": {},
   "outputs": [],
   "source": [
    "lr = LogisticRegression()"
   ]
  },
  {
   "cell_type": "code",
   "execution_count": 38,
   "id": "20009156",
   "metadata": {},
   "outputs": [
    {
     "data": {
      "text/plain": [
       "LogisticRegression()"
      ]
     },
     "execution_count": 38,
     "metadata": {},
     "output_type": "execute_result"
    }
   ],
   "source": [
    "lr.fit(X_train, y_train)"
   ]
  },
  {
   "cell_type": "code",
   "execution_count": 39,
   "id": "eda051a1",
   "metadata": {},
   "outputs": [
    {
     "data": {
      "text/plain": [
       "array([0, 0, 0, 1, 1, 1, 1, 0, 1, 1, 0, 0, 0, 0, 0, 1, 0, 1, 0, 0, 0, 0,\n",
       "       1, 0, 0, 0, 0, 0, 0, 1, 0, 1, 1, 1, 0, 0, 0, 1, 1, 0, 0, 0, 0, 0,\n",
       "       1, 0, 0, 0, 0, 0, 1, 1, 0, 1, 0, 1, 0, 1, 1, 1, 0, 1, 1, 0, 0, 1,\n",
       "       0, 0, 0, 1, 1, 1, 1, 1, 0, 0, 1, 1, 1, 0, 0, 1, 1, 0, 0, 0, 1, 1,\n",
       "       0, 0, 0, 0, 0, 0, 0, 0, 0, 0, 1, 0, 0, 0, 1, 0, 0, 0, 1, 0, 0, 0,\n",
       "       1, 0, 1, 0, 1, 0, 0, 0, 1, 0, 0, 1, 1, 0, 0, 0, 1, 1, 1, 0, 1, 0,\n",
       "       0, 1, 0, 1, 1, 0, 0, 1, 0, 1, 0, 0, 0, 1, 0, 0, 1, 0, 0, 0, 0, 1,\n",
       "       0, 0, 0, 1, 1, 1, 0, 0, 0, 1, 0, 0, 0, 1, 0, 0, 1, 1, 0, 1, 0, 0,\n",
       "       0, 1, 1, 0, 0, 0, 0, 0, 1, 0, 0, 0, 0, 1, 0, 0, 0, 0, 1, 1, 1, 0,\n",
       "       1, 0, 0, 1, 1, 0, 0, 1, 0, 0, 0, 0, 1, 0, 1, 0, 0, 0, 1, 0, 1, 0,\n",
       "       0, 1, 0])"
      ]
     },
     "execution_count": 39,
     "metadata": {},
     "output_type": "execute_result"
    }
   ],
   "source": [
    "y_pred = lr.predict(X_valid)\n",
    "y_pred"
   ]
  },
  {
   "cell_type": "markdown",
   "id": "21698d6b",
   "metadata": {},
   "source": [
    "Метрика Accuracy (доля правильных ответов)"
   ]
  },
  {
   "cell_type": "code",
   "execution_count": 40,
   "id": "e751d9e8",
   "metadata": {},
   "outputs": [],
   "source": [
    "from sklearn.metrics import accuracy_score"
   ]
  },
  {
   "cell_type": "code",
   "execution_count": 41,
   "id": "8f199e9a",
   "metadata": {},
   "outputs": [
    {
     "data": {
      "text/plain": [
       "0.8026905829596412"
      ]
     },
     "execution_count": 41,
     "metadata": {},
     "output_type": "execute_result"
    }
   ],
   "source": [
    "accuracy_score(y_valid, y_pred)"
   ]
  },
  {
   "cell_type": "markdown",
   "id": "e9e9cdb2",
   "metadata": {},
   "source": [
    "### Вычисление вероятности событий"
   ]
  },
  {
   "cell_type": "code",
   "execution_count": 42,
   "id": "b3f796de",
   "metadata": {},
   "outputs": [],
   "source": [
    "y_proba = lr.predict_proba(X_valid)"
   ]
  },
  {
   "cell_type": "code",
   "execution_count": 44,
   "id": "8efcfaf2",
   "metadata": {},
   "outputs": [
    {
     "data": {
      "text/plain": [
       "array([[0.88803847, 0.11196153],\n",
       "       [0.7306994 , 0.2693006 ],\n",
       "       [0.8701565 , 0.1298435 ],\n",
       "       [0.08991937, 0.91008063],\n",
       "       [0.25062013, 0.74937987],\n",
       "       [0.07826308, 0.92173692],\n",
       "       [0.33446955, 0.66553045],\n",
       "       [0.90522439, 0.09477561],\n",
       "       [0.2454247 , 0.7545753 ],\n",
       "       [0.10340606, 0.89659394],\n",
       "       [0.69433675, 0.30566325],\n",
       "       [0.93487212, 0.06512788],\n",
       "       [0.6248471 , 0.3751529 ],\n",
       "       [0.84761359, 0.15238641],\n",
       "       [0.75859309, 0.24140691],\n",
       "       [0.07898047, 0.92101953],\n",
       "       [0.72748705, 0.27251295],\n",
       "       [0.33438488, 0.66561512],\n",
       "       [0.70247546, 0.29752454],\n",
       "       [0.70651164, 0.29348836],\n",
       "       [0.88386344, 0.11613656],\n",
       "       [0.64286508, 0.35713492],\n",
       "       [0.39821921, 0.60178079],\n",
       "       [0.86944939, 0.13055061],\n",
       "       [0.89833287, 0.10166713],\n",
       "       [0.92821101, 0.07178899],\n",
       "       [0.56597441, 0.43402559],\n",
       "       [0.72832999, 0.27167001],\n",
       "       [0.91442869, 0.08557131],\n",
       "       [0.42638415, 0.57361585],\n",
       "       [0.86654161, 0.13345839],\n",
       "       [0.35847561, 0.64152439],\n",
       "       [0.48100119, 0.51899881],\n",
       "       [0.41666523, 0.58333477],\n",
       "       [0.86273765, 0.13726235],\n",
       "       [0.86423028, 0.13576972],\n",
       "       [0.58764893, 0.41235107],\n",
       "       [0.33446955, 0.66553045],\n",
       "       [0.06807562, 0.93192438],\n",
       "       [0.90119357, 0.09880643],\n",
       "       [0.71253278, 0.28746722],\n",
       "       [0.92109508, 0.07890492],\n",
       "       [0.9011276 , 0.0988724 ],\n",
       "       [0.86537362, 0.13462638],\n",
       "       [0.43710567, 0.56289433],\n",
       "       [0.91111173, 0.08888827],\n",
       "       [0.86639573, 0.13360427],\n",
       "       [0.87988995, 0.12011005],\n",
       "       [0.8842798 , 0.1157202 ],\n",
       "       [0.66870946, 0.33129054],\n",
       "       [0.26566212, 0.73433788],\n",
       "       [0.21285972, 0.78714028],\n",
       "       [0.96298628, 0.03701372],\n",
       "       [0.48735373, 0.51264627],\n",
       "       [0.95175076, 0.04824924],\n",
       "       [0.07958273, 0.92041727],\n",
       "       [0.73690369, 0.26309631],\n",
       "       [0.05298538, 0.94701462],\n",
       "       [0.18635009, 0.81364991],\n",
       "       [0.26337575, 0.73662425],\n",
       "       [0.87378271, 0.12621729],\n",
       "       [0.11635229, 0.88364771],\n",
       "       [0.18917577, 0.81082423],\n",
       "       [0.61164065, 0.38835935],\n",
       "       [0.86537362, 0.13462638],\n",
       "       [0.32636278, 0.67363722],\n",
       "       [0.59337751, 0.40662249],\n",
       "       [0.89920762, 0.10079238],\n",
       "       [0.84631692, 0.15368308],\n",
       "       [0.13239036, 0.86760964],\n",
       "       [0.20087247, 0.79912753],\n",
       "       [0.03546013, 0.96453987],\n",
       "       [0.45259648, 0.54740352],\n",
       "       [0.10171143, 0.89828857],\n",
       "       [0.88058404, 0.11941596],\n",
       "       [0.93331822, 0.06668178],\n",
       "       [0.34015579, 0.65984421],\n",
       "       [0.06395438, 0.93604562],\n",
       "       [0.20747902, 0.79252098],\n",
       "       [0.55916015, 0.44083985],\n",
       "       [0.94376431, 0.05623569],\n",
       "       [0.16602726, 0.83397274],\n",
       "       [0.0836935 , 0.9163065 ],\n",
       "       [0.86538062, 0.13461938],\n",
       "       [0.68121597, 0.31878403],\n",
       "       [0.75868301, 0.24131699],\n",
       "       [0.06208461, 0.93791539],\n",
       "       [0.06058705, 0.93941295],\n",
       "       [0.69896977, 0.30103023],\n",
       "       [0.90146943, 0.09853057],\n",
       "       [0.85427487, 0.14572513],\n",
       "       [0.55669107, 0.44330893],\n",
       "       [0.80497867, 0.19502133],\n",
       "       [0.86538526, 0.13461474],\n",
       "       [0.90119357, 0.09880643],\n",
       "       [0.89630139, 0.10369861],\n",
       "       [0.76407474, 0.23592526],\n",
       "       [0.93677955, 0.06322045],\n",
       "       [0.19722727, 0.80277273],\n",
       "       [0.89329274, 0.10670726],\n",
       "       [0.82395203, 0.17604797],\n",
       "       [0.91549329, 0.08450671],\n",
       "       [0.04789295, 0.95210705],\n",
       "       [0.92260519, 0.07739481],\n",
       "       [0.90337108, 0.09662892],\n",
       "       [0.91106957, 0.08893043],\n",
       "       [0.26921525, 0.73078475],\n",
       "       [0.71977464, 0.28022536],\n",
       "       [0.90135834, 0.09864166],\n",
       "       [0.56210141, 0.43789859],\n",
       "       [0.12402671, 0.87597329],\n",
       "       [0.87230192, 0.12769808],\n",
       "       [0.06658404, 0.93341596],\n",
       "       [0.65759798, 0.34240202],\n",
       "       [0.38071841, 0.61928159],\n",
       "       [0.86911056, 0.13088944],\n",
       "       [0.77149978, 0.22850022],\n",
       "       [0.654358  , 0.345642  ],\n",
       "       [0.17912131, 0.82087869],\n",
       "       [0.6889056 , 0.3110944 ],\n",
       "       [0.80330626, 0.19669374],\n",
       "       [0.05893104, 0.94106896],\n",
       "       [0.26468067, 0.73531933],\n",
       "       [0.55653831, 0.44346169],\n",
       "       [0.88739467, 0.11260533],\n",
       "       [0.52803392, 0.47196608],\n",
       "       [0.18520894, 0.81479106],\n",
       "       [0.37988753, 0.62011247],\n",
       "       [0.3515792 , 0.6484208 ],\n",
       "       [0.87363696, 0.12636304],\n",
       "       [0.33433143, 0.66566857],\n",
       "       [0.88803847, 0.11196153],\n",
       "       [0.73248884, 0.26751116],\n",
       "       [0.24146691, 0.75853309],\n",
       "       [0.66282459, 0.33717541],\n",
       "       [0.25370011, 0.74629989],\n",
       "       [0.04698153, 0.95301847],\n",
       "       [0.89925114, 0.10074886],\n",
       "       [0.93105007, 0.06894993],\n",
       "       [0.37932253, 0.62067747],\n",
       "       [0.87343358, 0.12656642],\n",
       "       [0.27945528, 0.72054472],\n",
       "       [0.70907109, 0.29092891],\n",
       "       [0.79886083, 0.20113917],\n",
       "       [0.54858921, 0.45141079],\n",
       "       [0.23903708, 0.76096292],\n",
       "       [0.7219998 , 0.2780002 ],\n",
       "       [0.89185998, 0.10814002],\n",
       "       [0.0513602 , 0.9486398 ],\n",
       "       [0.93291127, 0.06708873],\n",
       "       [0.84544378, 0.15455622],\n",
       "       [0.88406051, 0.11593949],\n",
       "       [0.86288218, 0.13711782],\n",
       "       [0.37708858, 0.62291142],\n",
       "       [0.9011276 , 0.0988724 ],\n",
       "       [0.90155472, 0.09844528],\n",
       "       [0.87837437, 0.12162563],\n",
       "       [0.33442946, 0.66557054],\n",
       "       [0.23124938, 0.76875062],\n",
       "       [0.43800974, 0.56199026],\n",
       "       [0.81899082, 0.18100918],\n",
       "       [0.61092734, 0.38907266],\n",
       "       [0.77561116, 0.22438884],\n",
       "       [0.0686839 , 0.9313161 ],\n",
       "       [0.86497678, 0.13502322],\n",
       "       [0.73750205, 0.26249795],\n",
       "       [0.67788504, 0.32211496],\n",
       "       [0.12409848, 0.87590152],\n",
       "       [0.87718186, 0.12281814],\n",
       "       [0.91552116, 0.08447884],\n",
       "       [0.42368885, 0.57631115],\n",
       "       [0.15455025, 0.84544975],\n",
       "       [0.65748983, 0.34251017],\n",
       "       [0.24318345, 0.75681655],\n",
       "       [0.85947018, 0.14052982],\n",
       "       [0.84637506, 0.15362494],\n",
       "       [0.68305074, 0.31694926],\n",
       "       [0.11970719, 0.88029281],\n",
       "       [0.31135889, 0.68864111],\n",
       "       [0.71985263, 0.28014737],\n",
       "       [0.67525746, 0.32474254],\n",
       "       [0.90750129, 0.09249871],\n",
       "       [0.91357966, 0.08642034],\n",
       "       [0.53306524, 0.46693476],\n",
       "       [0.23858692, 0.76141308],\n",
       "       [0.71853681, 0.28146319],\n",
       "       [0.64782417, 0.35217583],\n",
       "       [0.90119357, 0.09880643],\n",
       "       [0.60066192, 0.39933808],\n",
       "       [0.22914658, 0.77085342],\n",
       "       [0.93909253, 0.06090747],\n",
       "       [0.74138404, 0.25861596],\n",
       "       [0.88856063, 0.11143937],\n",
       "       [0.89849801, 0.10150199],\n",
       "       [0.2924692 , 0.7075308 ],\n",
       "       [0.12249792, 0.87750208],\n",
       "       [0.03535011, 0.96464989],\n",
       "       [0.74676931, 0.25323069],\n",
       "       [0.08453879, 0.91546121],\n",
       "       [0.57230696, 0.42769304],\n",
       "       [0.96131073, 0.03868927],\n",
       "       [0.41768969, 0.58231031],\n",
       "       [0.10789888, 0.89210112],\n",
       "       [0.67072689, 0.32927311],\n",
       "       [0.80192261, 0.19807739],\n",
       "       [0.34551012, 0.65448988],\n",
       "       [0.89850533, 0.10149467],\n",
       "       [0.67775669, 0.32224331],\n",
       "       [0.84180313, 0.15819687],\n",
       "       [0.94555781, 0.05444219],\n",
       "       [0.31993081, 0.68006919],\n",
       "       [0.90231505, 0.09768495],\n",
       "       [0.08446965, 0.91553035],\n",
       "       [0.86538761, 0.13461239],\n",
       "       [0.6248471 , 0.3751529 ],\n",
       "       [0.90026335, 0.09973665],\n",
       "       [0.19281434, 0.80718566],\n",
       "       [0.64364598, 0.35635402],\n",
       "       [0.15742691, 0.84257309],\n",
       "       [0.90146943, 0.09853057],\n",
       "       [0.90119357, 0.09880643],\n",
       "       [0.14370258, 0.85629742],\n",
       "       [0.89868834, 0.10131166]])"
      ]
     },
     "execution_count": 44,
     "metadata": {},
     "output_type": "execute_result"
    }
   ],
   "source": [
    "# Вероятности событий 0 и 1 для каждого пассажира\n",
    "y_proba"
   ]
  },
  {
   "cell_type": "markdown",
   "id": "9f44a082",
   "metadata": {},
   "source": [
    "Нас интересует вероятность события 1 (правый столбец) -  \n",
    "при получении ответа значения из него округляется до 0 или до 1  \n"
   ]
  },
  {
   "cell_type": "markdown",
   "id": "32b01a52",
   "metadata": {},
   "source": [
    "***Сохранение данных***  \n",
    "  \n",
    "Сохраним обработанные данные, они пригодятся для следующих уроков"
   ]
  },
  {
   "cell_type": "code",
   "execution_count": 45,
   "id": "975c7ae1",
   "metadata": {},
   "outputs": [],
   "source": [
    "X_train.to_pickle('X_train.pkl')\n",
    "y_train.to_pickle('y_train.pkl')\n",
    "\n",
    "X_valid.to_pickle('X_valid.pkl')\n",
    "y_valid.to_pickle('y_valid.pkl')"
   ]
  },
  {
   "cell_type": "code",
   "execution_count": null,
   "id": "ce2820c2",
   "metadata": {},
   "outputs": [],
   "source": []
  }
 ],
 "metadata": {
  "kernelspec": {
   "display_name": "Python 3 (ipykernel)",
   "language": "python",
   "name": "python3"
  },
  "language_info": {
   "codemirror_mode": {
    "name": "ipython",
    "version": 3
   },
   "file_extension": ".py",
   "mimetype": "text/x-python",
   "name": "python",
   "nbconvert_exporter": "python",
   "pygments_lexer": "ipython3",
   "version": "3.8.8"
  }
 },
 "nbformat": 4,
 "nbformat_minor": 5
}
